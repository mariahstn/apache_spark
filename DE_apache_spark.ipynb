{
 "cells": [
  {
   "cell_type": "markdown",
   "metadata": {},
   "source": [
    "# Data Manipulation using Apache Spark\n",
    "In this notebook, we will be using Apache Spark environment for data generation, manipulation, and exploration.\n"
   ]
  },
  {
   "cell_type": "markdown",
   "metadata": {},
   "source": [
    "##### Disclaimer: this notebook is created for academic purposes"
   ]
  },
  {
   "cell_type": "markdown",
   "metadata": {},
   "source": [
    "##### Summary\n",
    "\n",
    "    1. Spark environment preparation\n",
    "    2. Existing data extraction, exploration, and data loading into Spark from CSV\n",
    "    3. Relational database schema and DDL design\n",
    "    4. Database deployment into a suitable relational database\n",
    "    5. New sample (fake) data generation based on the designed schema \n",
    "    6. Sample data loading to the database using Apache Spark\n",
    "    7. DataFrames serialisation into Apache Parquet format\n",
    "    8. Data loading to DataFrames for further use "
   ]
  },
  {
   "cell_type": "code",
   "execution_count": 13,
   "metadata": {},
   "outputs": [],
   "source": [
    "import os\n",
    "os.environ[\"JAVA_HOME\"] = \"/usr/lib/jvm/java-8-openjdk-amd64\"\n",
    "os.environ[\"SPARK_HOME\"] = \"/project/spark-3.2.1-bin-hadoop3.2\""
   ]
  },
  {
   "cell_type": "code",
   "execution_count": 14,
   "metadata": {},
   "outputs": [],
   "source": [
    "# Apache Spark environment preparation\n",
    "import pyspark\n",
    "from pyspark.sql import SparkSession\n",
    "from pyspark.sql import Row\n",
    "from pyspark.sql import SQLContext\n",
    "from pyspark.sql.window import Window\n",
    "from pyspark.sql.functions import monotonically_increasing_id,row_number\n",
    "import pyspark.sql.functions as f\n",
    "from PIL import Image\n",
    "\n",
    "sc = pyspark.SparkContext.getOrCreate()\n",
    "sqlContext = SQLContext(sc)\n",
    "spark = SparkSession \\\n",
    "    .builder \\\n",
    "    .appName(\"PySpark App\") \\\n",
    "    .config(\"spark.jars\", \"/path/postgresql-42.3.3.jar\") \\\n",
    "    .getOrCreate()\n",
    "\n",
    "import numpy as np"
   ]
  },
  {
   "cell_type": "code",
   "execution_count": 15,
   "metadata": {},
   "outputs": [],
   "source": [
    "# Setup path to connect with database\n",
    "postgres_uri = \"jdbc:postgresql://depgdb.crhso94tou3n.eu-west-2.rds.amazonaws.com:5432/marianapitupulu21\"\n",
    "dbtable_merchant = \"electronic_price_schema.merchant\"\n",
    "dbtable_pricing = \"electronic_price_schema.pricing\"\n",
    "dbtable_manufacturer = \"electronic_price_schema.manufacturer\"\n",
    "dbtable_product = \"electronic_price_schema.product\"\n",
    "\n",
    "# Define user name & password to access the database\n",
    "user = <<username>>\n",
    "password = <<password>>"
   ]
  },
  {
   "cell_type": "code",
   "execution_count": 1,
   "metadata": {},
   "outputs": [],
   "source": [
    "# Read merchant table\n",
    "df_merchant = spark.read \\\n",
    "    .format(\"jdbc\") \\\n",
    "    .option(\"url\", postgres_uri) \\\n",
    "    .option(\"dbtable\", dbtable_merchant) \\\n",
    "    .option(\"user\", user) \\\n",
    "    .option(\"password\", password) \\\n",
    "    .option(\"driver\", \"org.postgresql.Driver\") \\\n",
    "    .load()\n",
    "\n",
    "df_merchant.printSchema()"
   ]
  },
  {
   "cell_type": "code",
   "execution_count": 6,
   "metadata": {},
   "outputs": [
    {
     "name": "stdout",
     "output_type": "stream",
     "text": [
      "root\n",
      " |-- pricing_id: integer (nullable = true)\n",
      " |-- merchant_id: integer (nullable = true)\n",
      " |-- date_seen: timestamp (nullable = true)\n",
      " |-- price_max: double (nullable = true)\n",
      " |-- price_min: double (nullable = true)\n",
      " |-- currency: string (nullable = true)\n",
      " |-- issale: boolean (nullable = true)\n",
      " |-- price_source_url: string (nullable = true)\n",
      "\n"
     ]
    }
   ],
   "source": [
    "# Read pricing table\n",
    "df_pricing = spark.read \\\n",
    "    .format(\"jdbc\") \\\n",
    "    .option(\"url\", postgres_uri) \\\n",
    "    .option(\"dbtable\", dbtable_pricing) \\\n",
    "    .option(\"user\", user) \\\n",
    "    .option(\"password\", password) \\\n",
    "    .option(\"driver\", \"org.postgresql.Driver\") \\\n",
    "    .load()\n",
    "\n",
    "df_pricing.printSchema()"
   ]
  },
  {
   "cell_type": "code",
   "execution_count": 7,
   "metadata": {},
   "outputs": [
    {
     "name": "stdout",
     "output_type": "stream",
     "text": [
      "root\n",
      " |-- manufacturer_id: integer (nullable = true)\n",
      " |-- manufacturer_name: string (nullable = true)\n",
      "\n"
     ]
    }
   ],
   "source": [
    "# Read manufacturer table\n",
    "df_manufacturer = spark.read \\\n",
    "    .format(\"jdbc\") \\\n",
    "    .option(\"url\", postgres_uri) \\\n",
    "    .option(\"dbtable\", dbtable_manufacturer) \\\n",
    "    .option(\"user\", user) \\\n",
    "    .option(\"password\", password) \\\n",
    "    .option(\"driver\", \"org.postgresql.Driver\") \\\n",
    "    .load()\n",
    "\n",
    "df_manufacturer.printSchema()"
   ]
  },
  {
   "cell_type": "code",
   "execution_count": 8,
   "metadata": {},
   "outputs": [
    {
     "name": "stdout",
     "output_type": "stream",
     "text": [
      "root\n",
      " |-- product_id: integer (nullable = true)\n",
      " |-- pricing_id: integer (nullable = true)\n",
      " |-- upc_id: integer (nullable = true)\n",
      " |-- manufacturer_id: integer (nullable = true)\n",
      " |-- product_name: string (nullable = true)\n",
      " |-- asins: string (nullable = true)\n",
      " |-- brand: string (nullable = true)\n",
      " |-- primary_categories: string (nullable = true)\n",
      " |-- categories: string (nullable = true)\n",
      " |-- availability: integer (nullable = true)\n",
      " |-- condition: string (nullable = true)\n",
      " |-- weight: double (nullable = true)\n",
      " |-- product_url: string (nullable = true)\n",
      " |-- image_url: string (nullable = true)\n",
      " |-- date_added: timestamp (nullable = true)\n",
      "\n"
     ]
    }
   ],
   "source": [
    "# Read product table\n",
    "df_product = spark.read \\\n",
    "    .format(\"jdbc\") \\\n",
    "    .option(\"url\", postgres_uri) \\\n",
    "    .option(\"dbtable\", dbtable_product) \\\n",
    "    .option(\"user\", user) \\\n",
    "    .option(\"password\", password) \\\n",
    "    .option(\"driver\", \"org.postgresql.Driver\") \\\n",
    "    .load()\n",
    "\n",
    "df_product.printSchema()"
   ]
  },
  {
   "cell_type": "markdown",
   "metadata": {},
   "source": [
    "## Extract and Explore the Dataset"
   ]
  },
  {
   "cell_type": "code",
   "execution_count": 711,
   "metadata": {},
   "outputs": [
    {
     "name": "stdout",
     "output_type": "stream",
     "text": [
      "root\n",
      " |-- id: string (nullable = true)\n",
      " |-- prices.amountMax: string (nullable = true)\n",
      " |-- prices.amountMin: string (nullable = true)\n",
      " |-- prices.availability: string (nullable = true)\n",
      " |-- prices.condition: string (nullable = true)\n",
      " |-- prices.currency: string (nullable = true)\n",
      " |-- prices.dateSeen: string (nullable = true)\n",
      " |-- prices.isSale: string (nullable = true)\n",
      " |-- prices.merchant: string (nullable = true)\n",
      " |-- prices.shipping: string (nullable = true)\n",
      " |-- prices.sourceURLs: string (nullable = true)\n",
      " |-- asins: string (nullable = true)\n",
      " |-- brand: string (nullable = true)\n",
      " |-- categories: string (nullable = true)\n",
      " |-- dateAdded: string (nullable = true)\n",
      " |-- dateUpdated: string (nullable = true)\n",
      " |-- ean: string (nullable = true)\n",
      " |-- imageURLs: string (nullable = true)\n",
      " |-- keys: string (nullable = true)\n",
      " |-- manufacturer: string (nullable = true)\n",
      " |-- manufacturerNumber: string (nullable = true)\n",
      " |-- name: string (nullable = true)\n",
      " |-- primaryCategories: string (nullable = true)\n",
      " |-- sourceURLs: string (nullable = true)\n",
      " |-- upc: string (nullable = true)\n",
      " |-- weight: string (nullable = true)\n",
      " |-- _c26: string (nullable = true)\n",
      " |-- _c27: string (nullable = true)\n",
      " |-- _c28: string (nullable = true)\n",
      " |-- _c29: string (nullable = true)\n",
      " |-- _c30: string (nullable = true)\n",
      "\n"
     ]
    }
   ],
   "source": [
    "# Load dataset from csv\n",
    "df = sqlContext.read.csv(\"/path/DatafinitiElectronicsProductsPricingData.csv\",header=True)\n",
    "df.printSchema()"
   ]
  },
  {
   "cell_type": "code",
   "execution_count": 646,
   "metadata": {},
   "outputs": [
    {
     "data": {
      "text/plain": [
       "7249"
      ]
     },
     "execution_count": 646,
     "metadata": {},
     "output_type": "execute_result"
    }
   ],
   "source": [
    "df.count()"
   ]
  },
  {
   "cell_type": "code",
   "execution_count": 647,
   "metadata": {},
   "outputs": [
    {
     "data": {
      "text/plain": [
       "695"
      ]
     },
     "execution_count": 647,
     "metadata": {},
     "output_type": "execute_result"
    }
   ],
   "source": [
    "# Total unique merchants recorded\n",
    "df.registerTempTable(\"temp_df\")\n",
    "df.select(\"`prices.merchant`\").distinct().count()"
   ]
  },
  {
   "cell_type": "code",
   "execution_count": 648,
   "metadata": {},
   "outputs": [
    {
     "data": {
      "text/plain": [
       "259"
      ]
     },
     "execution_count": 648,
     "metadata": {},
     "output_type": "execute_result"
    }
   ],
   "source": [
    "# Total unique brands recorded\n",
    "df.registerTempTable(\"temp_df\")\n",
    "df.select(\"brand\").distinct().count()"
   ]
  },
  {
   "cell_type": "code",
   "execution_count": 649,
   "metadata": {},
   "outputs": [
    {
     "name": "stdout",
     "output_type": "stream",
     "text": [
      "+--------------+-----------------------+\n",
      "|         brand|max(`prices.amountMax`)|\n",
      "+--------------+-----------------------+\n",
      "|        Belkin|                 349.99|\n",
      "|         Denon|                 999.98|\n",
      "|         Thule|                  59.99|\n",
      "| Grace Digital|                 169.99|\n",
      "|  Outdoor Tech|                  71.99|\n",
      "|         Razer|                4399.99|\n",
      "|        IOGEAR|                  79.99|\n",
      "|         Onkyo|                 699.99|\n",
      "|Master Dynamic|                 399.98|\n",
      "|          Sima|                 209.99|\n",
      "+--------------+-----------------------+\n",
      "only showing top 10 rows\n",
      "\n"
     ]
    }
   ],
   "source": [
    "# 10 brands with the highest aggregate maximum prices \n",
    "a=df.groupBy('brand').agg(f.max('`prices.amountMax`'))\n",
    "a.show(10)                  "
   ]
  },
  {
   "cell_type": "code",
   "execution_count": 765,
   "metadata": {
    "scrolled": false
   },
   "outputs": [
    {
     "name": "stdout",
     "output_type": "stream",
     "text": [
      "+--------------------+----------------+----------------+-------------------+----------------+---------------+--------------------+-------------+----------------+--------------------+--------------------+----------+------+--------------------+--------------------+--------------------+----+--------------------+--------------------+------------+------------------+--------------------+-----------------+--------------------+--------+--------------------+----+----+----+----+----+\n",
      "|                  id|prices.amountMax|prices.amountMin|prices.availability|prices.condition|prices.currency|     prices.dateSeen|prices.isSale| prices.merchant|     prices.shipping|   prices.sourceURLs|     asins| brand|          categories|           dateAdded|         dateUpdated| ean|           imageURLs|                keys|manufacturer|manufacturerNumber|                name|primaryCategories|          sourceURLs|     upc|              weight|_c26|_c27|_c28|_c29|_c30|\n",
      "+--------------------+----------------+----------------+-------------------+----------------+---------------+--------------------+-------------+----------------+--------------------+--------------------+----------+------+--------------------+--------------------+--------------------+----+--------------------+--------------------+------------+------------------+--------------------+-----------------+--------------------+--------+--------------------+----+----+----+----+----+\n",
      "|AV2ZzbZWvKc47QAVpILS|          299.99|          299.99|           In Stock|             New|            USD|2017-12-04T17:00:00Z|         TRUE|bhphotovideo.com|Free Expedited Sh...|https://www.bhpho...|B01M2TRTNL|Belkin|Computers,Tablet ...|2017-07-31T17:59:41Z|2018-07-03T20:40:05Z|null|https://pisces.bb...|thunderbolt3expre...|        null|          F4U095tt|Belkin F4U095tt T...|      Electronics|http://www.bestbu...|7.46E+11|0.8 lb           ...|null|null|null|null|null|\n",
      "|AV2ZzbZWvKc47QAVpILS|          344.99|          344.99|           In Stock|             New|            USD|2017-09-24T01:00:00Z|        FALSE|bhphotovideo.com|Free Expedited Sh...|https://www.bhpho...|B01M2TRTNL|Belkin|Computers,Tablet ...|2017-07-31T17:59:41Z|2018-07-03T20:40:05Z|null|https://pisces.bb...|thunderbolt3expre...|        null|          F4U095tt|Belkin F4U095tt T...|      Electronics|http://www.bestbu...|7.46E+11|0.8 lb           ...|null|null|null|null|null|\n",
      "|AV2ZzbZWvKc47QAVpILS|          338.55|          338.55|           In Stock|             New|            USD|2017-11-18T12:00:00Z|        FALSE|bhphotovideo.com|Free Expedited Sh...|https://www.bhpho...|B01M2TRTNL|Belkin|Computers,Tablet ...|2017-07-31T17:59:41Z|2018-07-03T20:40:05Z|null|https://pisces.bb...|thunderbolt3expre...|        null|          F4U095tt|Belkin F4U095tt T...|      Electronics|http://www.bestbu...|7.46E+11|0.8 lb           ...|null|null|null|null|null|\n",
      "|AV2ZzbZWvKc47QAVpILS|           285.2|           285.2|           In Stock|             New|            USD|2018-05-04T08:00:00Z|        FALSE|bhphotovideo.com|Free Expedited Sh...|https://www.bhpho...|B01M2TRTNL|Belkin|Computers,Tablet ...|2017-07-31T17:59:41Z|2018-07-03T20:40:05Z|null|https://pisces.bb...|thunderbolt3expre...|        null|          F4U095tt|Belkin F4U095tt T...|      Electronics|http://www.bestbu...|7.46E+11|0.8 lb           ...|null|null|null|null|null|\n",
      "|AV2ZzbZWvKc47QAVpILS|          285.31|          285.31|           In Stock|             New|            USD|2017-12-06T13:00:...|         TRUE|bhphotovideo.com|Free Expedited Sh...|https://www.bhpho...|B01M2TRTNL|Belkin|Computers,Tablet ...|2017-07-31T17:59:41Z|2018-07-03T20:40:05Z|null|https://pisces.bb...|thunderbolt3expre...|        null|          F4U095tt|Belkin F4U095tt T...|      Electronics|http://www.bestbu...|7.46E+11|0.8 lb           ...|null|null|null|null|null|\n",
      "+--------------------+----------------+----------------+-------------------+----------------+---------------+--------------------+-------------+----------------+--------------------+--------------------+----------+------+--------------------+--------------------+--------------------+----+--------------------+--------------------+------------+------------------+--------------------+-----------------+--------------------+--------+--------------------+----+----+----+----+----+\n",
      "only showing top 5 rows\n",
      "\n"
     ]
    }
   ],
   "source": [
    "# Show all data from Belkin \n",
    "df.registerTempTable(\"temp\")\n",
    "\n",
    "temp= sqlContext.sql(\"SELECT * FROM temp where brand == 'Belkin'\")\n",
    "temp.show(5)"
   ]
  },
  {
   "cell_type": "markdown",
   "metadata": {},
   "source": [
    "## Relational Database"
   ]
  },
  {
   "cell_type": "code",
   "execution_count": 609,
   "metadata": {},
   "outputs": [
    {
     "data": {
      "image/png": "[encoded data removed]",
      "text/plain": [
       "<PIL.PngImagePlugin.PngImageFile image mode=RGBA size=1842x1010 at 0x7F1C28039CD0>"
      ]
     },
     "metadata": {},
     "output_type": "display_data"
    }
   ],
   "source": [
    "image = Image.open('/path/relational_db.png')\n",
    "image.show()"
   ]
  },
  {
   "cell_type": "markdown",
   "metadata": {},
   "source": [
    "## Transform a Small Subset from the Dataset"
   ]
  },
  {
   "cell_type": "code",
   "execution_count": 447,
   "metadata": {
    "scrolled": false
   },
   "outputs": [],
   "source": [
    "df_subset = spark.createDataFrame(df.head(10),schema=df.schema)"
   ]
  },
  {
   "cell_type": "code",
   "execution_count": 666,
   "metadata": {},
   "outputs": [],
   "source": [
    "# Generate dataframe based on the created schema\n",
    "# Create merchant table\n",
    "df_merchant=df_subset.selectExpr('`prices.merchant` as merchant_name').distinct()\n",
    "df_merchant=df_merchant=\n",
    "df_merchant=df_merchant.withColumn(\"merchant_id\",row_number().over(Window.orderBy(monotonically_increasing_id())))"
   ]
  },
  {
   "cell_type": "code",
   "execution_count": 667,
   "metadata": {
    "scrolled": true
   },
   "outputs": [
    {
     "name": "stdout",
     "output_type": "stream",
     "text": [
      "+--------------------+-----------+\n",
      "|       merchant_name|merchant_id|\n",
      "+--------------------+-----------+\n",
      "|         Walmart.com|          1|\n",
      "|         Bestbuy.com|          2|\n",
      "|California Electr...|          3|\n",
      "+--------------------+-----------+\n",
      "\n"
     ]
    }
   ],
   "source": [
    "df_merchant.show()"
   ]
  },
  {
   "cell_type": "code",
   "execution_count": 668,
   "metadata": {},
   "outputs": [],
   "source": [
    "# Create manufacturer table\n",
    "df_manufacturer=df_subset.selectExpr('manufacturer as manufacturer_name','manufacturerNumber as manufacturer_code').distinct()\n",
    "df_manufacturer=df_manufacturer.withColumn(\"manufacturer_id\",row_number().over(Window.orderBy(monotonically_increasing_id())))"
   ]
  },
  {
   "cell_type": "code",
   "execution_count": 669,
   "metadata": {},
   "outputs": [
    {
     "name": "stdout",
     "output_type": "stream",
     "text": [
      "+-----------------+-----------------+---------------+\n",
      "|manufacturer_name|manufacturer_code|manufacturer_id|\n",
      "+-----------------+-----------------+---------------+\n",
      "|          Boytone|          BT-210F|              1|\n",
      "|             null|         VLF410B1|              2|\n",
      "+-----------------+-----------------+---------------+\n",
      "\n"
     ]
    }
   ],
   "source": [
    "df_manufacturer.show()"
   ]
  },
  {
   "cell_type": "code",
   "execution_count": 728,
   "metadata": {},
   "outputs": [
    {
     "name": "stdout",
     "output_type": "stream",
     "text": [
      "+---------+---------+--------+--------------------+------+--------------------+----------+-----------+\n",
      "|price_max|price_min|currency|           date_seen|issale|   price_source_urls|pricing_id|merchant_id|\n",
      "+---------+---------+--------+--------------------+------+--------------------+----------+-----------+\n",
      "|   104.99|   104.99|     USD|2017-03-30T06:00:...| FALSE|http://www.bestbu...|         1|          1|\n",
      "|       69|    64.99|     USD|2017-12-14T06:00:00Z|  TRUE|https://www.walma...|         2|          2|\n",
      "|    69.99|    69.99|     USD|2017-10-10T05:00:00Z| FALSE|https://www.bestb...|         3|          1|\n",
      "|       69|       69|     USD|2017-09-08T05:00:00Z| FALSE|https://www.walma...|         4|          2|\n",
      "|       66|       66|     USD|2017-10-24T04:00:00Z| FALSE|https://www.walma...|         5|          2|\n",
      "|    66.99|    66.99|     USD|2017-08-28T07:00:00Z| FALSE|https://www.bestb...|         6|          1|\n",
      "|    65.99|    65.99|     USD|2017-08-12T09:00:00Z| FALSE|http://www.bestbu...|         7|          1|\n",
      "|    74.99|    74.99|     USD|2017-08-15T15:00:00Z| FALSE|https://www.walma...|         8|          3|\n",
      "|       69|       64|     USD|2018-01-21T08:00:00Z|  TRUE|https://www.walma...|         9|          2|\n",
      "|    69.99|    69.99|     USD|2017-09-14T21:00:00Z| FALSE|https://www.walma...|        10|          2|\n",
      "+---------+---------+--------+--------------------+------+--------------------+----------+-----------+\n",
      "\n"
     ]
    }
   ],
   "source": [
    "# Create pricing table\n",
    "df_pricing = df_subset.selectExpr('`prices.amountMax` as price_max','`prices.amountMin` as price_min',\n",
    "                                '`prices.currency` as currency','`prices.dateSeen` as date_seen','`prices.isSale` as issale',\n",
    "                                '`prices.sourceURLs` as price_source_urls','`prices.merchant` as merchant_name').distinct()\n",
    "\n",
    "df_pricing = df_pricing.withColumn(\"pricing_id\", row_number().over(Window.orderBy(monotonically_increasing_id())))\n",
    "\n",
    "# Assign the foreign key merchant_id\n",
    "df_pricing = df_pricing.withColumn(\"merchant_id\", \\\n",
    "   when((df_pricing.merchant_name == \"Bestbuy.com\"), lit(1)) \\\n",
    "     .when((df_pricing.merchant_name == \"Walmart.com\"), lit(2)) \\\n",
    "     .when((df_pricing.merchant_name == \"California Electronics\"), lit(3)))\n",
    "\n",
    "# Drop unused column\n",
    "df_pricing = df_pricing.drop(df_pricing.merchant_name)\n",
    "\n",
    "df_pricing.show()"
   ]
  },
  {
   "cell_type": "code",
   "execution_count": 716,
   "metadata": {
    "scrolled": true
   },
   "outputs": [
    {
     "name": "stdout",
     "output_type": "stream",
     "text": [
      "+---------------+----------+--------+--------------------+-------+------------------+--------------------+------------+---------+-----------+--------------------+--------------------+--------------------+--------------------+----------+\n",
      "|manufacturer_id|pricing_id|     upc|               asins|  brand|primary_categories|          categories|availability|condition|     weight|         source_urls|          image_urls|          date_added|        date_updated|product_id|\n",
      "+---------------+----------+--------+--------------------+-------+------------------+--------------------+------------+---------+-----------+--------------------+--------------------+--------------------+--------------------+----------+\n",
      "|              3|        10|7.94E+11|          B00C78VIUE|  Sanus|       Electronics|Audio & Video Acc...|         Yes|      New|32.8 pounds|https://www.amazo...|https://images-na...|2015-04-13T12:00:51Z|2018-05-12T18:59:48Z|         1|\n",
      "|              3|         7|6.42E+11|B018K251JE,B00VIL...|Boytone|       Electronics|Stereos,Portable ...|    In Stock|      New|  14 pounds|http://reviews.be...|https://images-na...|2015-05-18T14:14:56Z|2018-06-13T19:39:02Z|         2|\n",
      "|              3|        10|6.42E+11|B018K251JE,B00VIL...|Boytone|       Electronics|Stereos,Portable ...|         Yes|      New|  14 pounds|http://reviews.be...|https://images-na...|2015-05-18T14:14:56Z|2018-06-13T19:39:02Z|         3|\n",
      "+---------------+----------+--------+--------------------+-------+------------------+--------------------+------------+---------+-----------+--------------------+--------------------+--------------------+--------------------+----------+\n",
      "\n"
     ]
    }
   ],
   "source": [
    "# Create product table\n",
    "df_product = df_subset.selectExpr('upc','asins','brand','primaryCategories as primary_categories',\n",
    "                                  'categories','`prices.availability` as availability','`prices.condition` as condition',\n",
    "                                  'weight','sourceURLs as source_urls','imageURLs as image_urls', \n",
    "                                  'dateAdded as date_added','dateUpdated as date_updated').distinct()\n",
    "\n",
    "\n",
    "df_product = df_product.withColumn(\"product_id\", row_number().over(Window.orderBy(monotonically_increasing_id())))\n",
    "\n",
    "# Define function to randomize number for foreign key pricing_id\n",
    "def f(x):\n",
    "    return np.random.randint(10)\n",
    "\n",
    "# Assign random number for foreign key id\n",
    "fk_pricing = sc.parallelize([1] * 10).map(f)\n",
    "fk_pricing=fk_pricing.collect()\n",
    "fk_pricing = sqlContext.createDataFrame([(l+1,) for l in fk_pricing], ['pricing_id'])\n",
    "\n",
    "# Join both dataframe to get the final product table\n",
    "temp_fk = fk_pricing.withColumn(\"row_idx\", row_number().over(Window.orderBy(monotonically_increasing_id())))\n",
    "temp_data = df_product.withColumn(\"row_idx\", row_number().over(Window.orderBy(monotonically_increasing_id())))\n",
    "\n",
    "df_product = temp_fk.join(temp_data, temp_fk.row_idx == temp_data.row_idx).\\\n",
    "             drop(\"row_idx\")\n",
    "\n",
    "# Define function to randomize number for foreign key manufacturer_id\n",
    "def f(x):\n",
    "    return np.random.randint(3)\n",
    "\n",
    "# Assign random number for foreign key id\n",
    "fk_manufacturer = sc.parallelize([1] * 3).map(f)\n",
    "fk_manufacturer=fk_manufacturer.collect()\n",
    "fk_manufacturer = sqlContext.createDataFrame([(l+1,) for l in fk_manufacturer], ['manufacturer_id'])\n",
    "\n",
    "# Join both dataframe to get the final product table\n",
    "temp_fk= fk_manufacturer.withColumn(\"row_idx\", row_number().over(Window.orderBy(monotonically_increasing_id())))\n",
    "temp_data = df_product.withColumn(\"row_idx\", row_number().over(Window.orderBy(monotonically_increasing_id())))\n",
    "df_product = temp_fk.join(temp_data, temp_fk.row_idx == temp_data.row_idx).\\\n",
    "             drop(\"row_idx\")\n",
    "\n",
    "df_product.show()"
   ]
  },
  {
   "cell_type": "markdown",
   "metadata": {},
   "source": [
    "## Load Sample Data into the Database using Apache Spark"
   ]
  },
  {
   "cell_type": "code",
   "execution_count": 572,
   "metadata": {},
   "outputs": [],
   "source": [
    "spark = SparkSession \\\n",
    "    .builder \\\n",
    "    .appName(\"PySpark App\") \\\n",
    "    .config(\"spark.jars\", \"/path/postgresql-42.3.2.jar\") \\\n",
    "    .getOrCreate()"
   ]
  },
  {
   "cell_type": "code",
   "execution_count": 574,
   "metadata": {},
   "outputs": [],
   "source": [
    "# Setup path to connect with database\n",
    "postgres_uri = \"jdbc:postgresql://depgdb.crhso94tou3n.eu-west-2.rds.amazonaws.com:5432/<<username>>\"\n",
    "dbtable_merchant= \"electronic_price_schema.merchant\"\n",
    "dbtable_manufacturer = \"electronic_price_schema.manufacturer\"\n",
    "dbtable_pricing = \"electronic_price_schema.pricing\"\n",
    "dbtable_product = \"electronic_price_schema.product\"\n",
    "\n",
    "# Define username and password to access the database\n",
    "user = \"<<username>>\"\n",
    "password = \"<<password>>\""
   ]
  },
  {
   "cell_type": "code",
   "execution_count": 724,
   "metadata": {},
   "outputs": [],
   "source": [
    "# Write sample data into the Database using Apache Spark\n",
    "df_merchant.select(\"merchant_name\",\"merchant_id\").write.format(\"jdbc\") \\\n",
    "    .option(\"url\", postgres_uri) \\\n",
    "    .option(\"driver\", \"org.postgresql.Driver\") \\\n",
    "    .option(\"dbtable\",\"electronic_price_schema.merchant\") \\\n",
    "    .option(\"user\", user) \\\n",
    "    .mode(\"append\") \\\n",
    "    .option(\"password\", password).save()"
   ]
  },
  {
   "cell_type": "code",
   "execution_count": 725,
   "metadata": {},
   "outputs": [],
   "source": [
    "df_manufacturer.select(\"manufacturer_id\",\"manufacturer_name\",\"manufacturer_code\").write.format(\"jdbc\") \\\n",
    "    .option(\"url\", postgres_uri) \\\n",
    "    .option(\"driver\", \"org.postgresql.Driver\") \\\n",
    "    .option(\"dbtable\",\"electronic_price_schema.manufacturer\") \\\n",
    "    .option(\"user\", user) \\\n",
    "    .mode(\"append\") \\\n",
    "    .option(\"password\", password).save()"
   ]
  },
  {
   "cell_type": "code",
   "execution_count": 729,
   "metadata": {},
   "outputs": [],
   "source": [
    "df_pricing.select(\"pricing_id\",\"merchant_id\",\"date_seen\",\"price_max\",\"price_min\",\n",
    "                  \"currency\",\"issale\",\"price_source_urls\").write.format(\"jdbc\") \\\n",
    "    .option(\"url\", postgres_uri) \\\n",
    "    .option(\"driver\", \"org.postgresql.Driver\") \\\n",
    "    .option(\"dbtable\",\"electronic_price_schema.pricing\") \\\n",
    "    .option(\"user\", user) \\\n",
    "    .mode(\"append\") \\\n",
    "    .option(\"password\", password).save()"
   ]
  },
  {
   "cell_type": "code",
   "execution_count": 719,
   "metadata": {},
   "outputs": [],
   "source": [
    "# Write sample data into the Database using Apache Spark\n",
    "df_product.select('upc','asins','brand','primary_categories','categories','availability','condition',\n",
    "                  'weight','source_urls','image_urls','date_added','date_updated','product_id','manufacturer_id').write.format(\"jdbc\") \\\n",
    "    .option(\"url\", postgres_uri) \\\n",
    "    .option(\"driver\", \"org.postgresql.Driver\") \\\n",
    "    .option(\"dbtable\",\"electronic_price_schema.product\") \\\n",
    "    .option(\"user\", user) \\\n",
    "    .mode(\"append\") \\\n",
    "    .option(\"password\", password).save()"
   ]
  },
  {
   "cell_type": "code",
   "execution_count": 726,
   "metadata": {},
   "outputs": [
    {
     "name": "stdout",
     "output_type": "stream",
     "text": [
      "+-----------+--------------------+\n",
      "|merchant_id|       merchant_name|\n",
      "+-----------+--------------------+\n",
      "|          1|         Walmart.com|\n",
      "|          2|         Bestbuy.com|\n",
      "|          3|California Electr...|\n",
      "+-----------+--------------------+\n",
      "\n"
     ]
    }
   ],
   "source": [
    "# Read database\n",
    "merchant = spark.read \\\n",
    "    .format(\"jdbc\") \\\n",
    "    .option(\"url\", postgres_uri) \\\n",
    "    .option(\"dbtable\", dbtable_merchant) \\\n",
    "    .option(\"user\", user) \\\n",
    "    .option(\"password\", password) \\\n",
    "    .option(\"driver\", \"org.postgresql.Driver\") \\\n",
    "    .load()\n",
    "\n",
    "merchant.show()"
   ]
  },
  {
   "cell_type": "code",
   "execution_count": 727,
   "metadata": {},
   "outputs": [
    {
     "name": "stdout",
     "output_type": "stream",
     "text": [
      "+---------------+-----------------+-----------------+\n",
      "|manufacturer_id|manufacturer_name|manufacturer_code|\n",
      "+---------------+-----------------+-----------------+\n",
      "|              1|          Boytone|          BT-210F|\n",
      "|              2|             null|         VLF410B1|\n",
      "+---------------+-----------------+-----------------+\n",
      "\n"
     ]
    }
   ],
   "source": [
    "# Read database\n",
    "manufacturer = spark.read \\\n",
    "    .format(\"jdbc\") \\\n",
    "    .option(\"url\", postgres_uri) \\\n",
    "    .option(\"dbtable\", dbtable_manufacturer) \\\n",
    "    .option(\"user\", user) \\\n",
    "    .option(\"password\", password) \\\n",
    "    .option(\"driver\", \"org.postgresql.Driver\") \\\n",
    "    .load()\n",
    "\n",
    "manufacturer.show()"
   ]
  },
  {
   "cell_type": "code",
   "execution_count": 730,
   "metadata": {},
   "outputs": [
    {
     "name": "stdout",
     "output_type": "stream",
     "text": [
      "+----------+-----------+--------------------+---------+---------+--------+------+--------------------+\n",
      "|pricing_id|merchant_id|           date_seen|price_max|price_min|currency|issale|   price_source_urls|\n",
      "+----------+-----------+--------------------+---------+---------+--------+------+--------------------+\n",
      "|         1|          1|2017-03-30T06:00:...|   104.99|   104.99|     USD| FALSE|http://www.bestbu...|\n",
      "|         2|          2|2017-12-14T06:00:00Z|       69|    64.99|     USD|  TRUE|https://www.walma...|\n",
      "|         3|          1|2017-10-10T05:00:00Z|    69.99|    69.99|     USD| FALSE|https://www.bestb...|\n",
      "|         4|          2|2017-09-08T05:00:00Z|       69|       69|     USD| FALSE|https://www.walma...|\n",
      "|         5|          2|2017-10-24T04:00:00Z|       66|       66|     USD| FALSE|https://www.walma...|\n",
      "|         6|          1|2017-08-28T07:00:00Z|    66.99|    66.99|     USD| FALSE|https://www.bestb...|\n",
      "|         7|          1|2017-08-12T09:00:00Z|    65.99|    65.99|     USD| FALSE|http://www.bestbu...|\n",
      "|         8|          3|2017-08-15T15:00:00Z|    74.99|    74.99|     USD| FALSE|https://www.walma...|\n",
      "|         9|          2|2018-01-21T08:00:00Z|       69|       64|     USD|  TRUE|https://www.walma...|\n",
      "|        10|          2|2017-09-14T21:00:00Z|    69.99|    69.99|     USD| FALSE|https://www.walma...|\n",
      "+----------+-----------+--------------------+---------+---------+--------+------+--------------------+\n",
      "\n"
     ]
    }
   ],
   "source": [
    "# Read database\n",
    "pricing = spark.read \\\n",
    "    .format(\"jdbc\") \\\n",
    "    .option(\"url\", postgres_uri) \\\n",
    "    .option(\"dbtable\", dbtable_pricing) \\\n",
    "    .option(\"user\", user) \\\n",
    "    .option(\"password\", password) \\\n",
    "    .option(\"driver\", \"org.postgresql.Driver\") \\\n",
    "    .load()\n",
    "\n",
    "pricing.show()"
   ]
  },
  {
   "cell_type": "code",
   "execution_count": 723,
   "metadata": {},
   "outputs": [
    {
     "name": "stdout",
     "output_type": "stream",
     "text": [
      "+----------+----------+--------+---------------+--------------------+-------+------------------+--------------------+------------+---------+-----------+--------------------+--------------------+--------------------+--------------------+\n",
      "|product_id|pricing_id|     upc|manufacturer_id|               asins|  brand|primary_categories|          categories|availability|condition|     weight|         source_urls|          image_urls|          date_added|        date_updated|\n",
      "+----------+----------+--------+---------------+--------------------+-------+------------------+--------------------+------------+---------+-----------+--------------------+--------------------+--------------------+--------------------+\n",
      "|         1|      null|7.94E+11|              3|          B00C78VIUE|  Sanus|       Electronics|Audio & Video Acc...|         Yes|      New|32.8 pounds|https://www.amazo...|https://images-na...|2015-04-13T12:00:51Z|2018-05-12T18:59:48Z|\n",
      "|         2|      null|6.42E+11|              3|B018K251JE,B00VIL...|Boytone|       Electronics|Stereos,Portable ...|    In Stock|      New|  14 pounds|http://reviews.be...|https://images-na...|2015-05-18T14:14:56Z|2018-06-13T19:39:02Z|\n",
      "|         3|      null|6.42E+11|              3|B018K251JE,B00VIL...|Boytone|       Electronics|Stereos,Portable ...|         Yes|      New|  14 pounds|http://reviews.be...|https://images-na...|2015-05-18T14:14:56Z|2018-06-13T19:39:02Z|\n",
      "+----------+----------+--------+---------------+--------------------+-------+------------------+--------------------+------------+---------+-----------+--------------------+--------------------+--------------------+--------------------+\n",
      "\n"
     ]
    }
   ],
   "source": [
    "# Read database\n",
    "product = spark.read \\\n",
    "    .format(\"jdbc\") \\\n",
    "    .option(\"url\", postgres_uri) \\\n",
    "    .option(\"dbtable\", dbtable_product) \\\n",
    "    .option(\"user\", user) \\\n",
    "    .option(\"password\", password) \\\n",
    "    .option(\"driver\", \"org.postgresql.Driver\") \\\n",
    "    .load()\n",
    "\n",
    "product.show()"
   ]
  },
  {
   "cell_type": "markdown",
   "metadata": {},
   "source": [
    "## Serialise the DataFrames into Apache Parquet Format"
   ]
  },
  {
   "cell_type": "code",
   "execution_count": 703,
   "metadata": {},
   "outputs": [],
   "source": [
    "# Write the tables into parquet\n",
    "df_merchant.write.parquet(\"/project/merch.parquet\")\n",
    "df_manufacturer.write.parquet(\"/project/manuf.parquet\")\n",
    "df_pricing.write.parquet(\"/project/price.parquet\")\n",
    "df_product.write.parquet(\"/project/product.parquet\")"
   ]
  },
  {
   "cell_type": "markdown",
   "metadata": {},
   "source": [
    "## Load the Results of the DataFrames into a Pandas DataFrame"
   ]
  },
  {
   "cell_type": "code",
   "execution_count": 777,
   "metadata": {},
   "outputs": [
    {
     "data": {
      "text/html": [
       "<div>\n",
       "<style scoped>\n",
       "    .dataframe tbody tr th:only-of-type {\n",
       "        vertical-align: middle;\n",
       "    }\n",
       "\n",
       "    .dataframe tbody tr th {\n",
       "        vertical-align: top;\n",
       "    }\n",
       "\n",
       "    .dataframe thead th {\n",
       "        text-align: right;\n",
       "    }\n",
       "</style>\n",
       "<table border=\"1\" class=\"dataframe\">\n",
       "  <thead>\n",
       "    <tr style=\"text-align: right;\">\n",
       "      <th></th>\n",
       "      <th>0</th>\n",
       "      <th>1</th>\n",
       "      <th>2</th>\n",
       "    </tr>\n",
       "  </thead>\n",
       "  <tbody>\n",
       "    <tr>\n",
       "      <th>merchant_name</th>\n",
       "      <td>Walmart.com</td>\n",
       "      <td>Bestbuy.com</td>\n",
       "      <td>California Electronics</td>\n",
       "    </tr>\n",
       "    <tr>\n",
       "      <th>merchant_id</th>\n",
       "      <td>1</td>\n",
       "      <td>2</td>\n",
       "      <td>3</td>\n",
       "    </tr>\n",
       "  </tbody>\n",
       "</table>\n",
       "</div>"
      ],
      "text/plain": [
       "                         0            1                       2\n",
       "merchant_name  Walmart.com  Bestbuy.com  California Electronics\n",
       "merchant_id              1            2                       3"
      ]
     },
     "execution_count": 777,
     "metadata": {},
     "output_type": "execute_result"
    }
   ],
   "source": [
    "# Read parquet\n",
    "parq_merchant=pd.read_parquet(\"/path/merch.parquet\")\n",
    "parq_merchant.head().T"
   ]
  },
  {
   "cell_type": "code",
   "execution_count": 776,
   "metadata": {},
   "outputs": [
    {
     "data": {
      "text/html": [
       "<div>\n",
       "<style scoped>\n",
       "    .dataframe tbody tr th:only-of-type {\n",
       "        vertical-align: middle;\n",
       "    }\n",
       "\n",
       "    .dataframe tbody tr th {\n",
       "        vertical-align: top;\n",
       "    }\n",
       "\n",
       "    .dataframe thead th {\n",
       "        text-align: right;\n",
       "    }\n",
       "</style>\n",
       "<table border=\"1\" class=\"dataframe\">\n",
       "  <thead>\n",
       "    <tr style=\"text-align: right;\">\n",
       "      <th></th>\n",
       "      <th>0</th>\n",
       "      <th>1</th>\n",
       "    </tr>\n",
       "  </thead>\n",
       "  <tbody>\n",
       "    <tr>\n",
       "      <th>manufacturer_name</th>\n",
       "      <td>Boytone</td>\n",
       "      <td>None</td>\n",
       "    </tr>\n",
       "    <tr>\n",
       "      <th>manufacturer_code</th>\n",
       "      <td>BT-210F</td>\n",
       "      <td>VLF410B1</td>\n",
       "    </tr>\n",
       "    <tr>\n",
       "      <th>manufacturer_id</th>\n",
       "      <td>1</td>\n",
       "      <td>2</td>\n",
       "    </tr>\n",
       "  </tbody>\n",
       "</table>\n",
       "</div>"
      ],
      "text/plain": [
       "                         0         1\n",
       "manufacturer_name  Boytone      None\n",
       "manufacturer_code  BT-210F  VLF410B1\n",
       "manufacturer_id          1         2"
      ]
     },
     "execution_count": 776,
     "metadata": {},
     "output_type": "execute_result"
    }
   ],
   "source": [
    "# Read parquet\n",
    "parq_manufacturer=pd.read_parquet(\"/path/manuf.parquet\")\n",
    "parq_manufacturer.head().T"
   ]
  },
  {
   "cell_type": "code",
   "execution_count": 775,
   "metadata": {},
   "outputs": [
    {
     "data": {
      "text/html": [
       "<div>\n",
       "<style scoped>\n",
       "    .dataframe tbody tr th:only-of-type {\n",
       "        vertical-align: middle;\n",
       "    }\n",
       "\n",
       "    .dataframe tbody tr th {\n",
       "        vertical-align: top;\n",
       "    }\n",
       "\n",
       "    .dataframe thead th {\n",
       "        text-align: right;\n",
       "    }\n",
       "</style>\n",
       "<table border=\"1\" class=\"dataframe\">\n",
       "  <thead>\n",
       "    <tr style=\"text-align: right;\">\n",
       "      <th></th>\n",
       "      <th>0</th>\n",
       "      <th>1</th>\n",
       "      <th>2</th>\n",
       "      <th>3</th>\n",
       "      <th>4</th>\n",
       "    </tr>\n",
       "  </thead>\n",
       "  <tbody>\n",
       "    <tr>\n",
       "      <th>price_max</th>\n",
       "      <td>104.99</td>\n",
       "      <td>69</td>\n",
       "      <td>69.99</td>\n",
       "      <td>69</td>\n",
       "      <td>66</td>\n",
       "    </tr>\n",
       "    <tr>\n",
       "      <th>price_min</th>\n",
       "      <td>104.99</td>\n",
       "      <td>64.99</td>\n",
       "      <td>69.99</td>\n",
       "      <td>69</td>\n",
       "      <td>66</td>\n",
       "    </tr>\n",
       "    <tr>\n",
       "      <th>currency</th>\n",
       "      <td>USD</td>\n",
       "      <td>USD</td>\n",
       "      <td>USD</td>\n",
       "      <td>USD</td>\n",
       "      <td>USD</td>\n",
       "    </tr>\n",
       "    <tr>\n",
       "      <th>date_seen</th>\n",
       "      <td>2017-03-30T06:00:00Z,2017-03-10T22:00:00Z,2017...</td>\n",
       "      <td>2017-12-14T06:00:00Z</td>\n",
       "      <td>2017-10-10T05:00:00Z</td>\n",
       "      <td>2017-09-08T05:00:00Z</td>\n",
       "      <td>2017-10-24T04:00:00Z</td>\n",
       "    </tr>\n",
       "    <tr>\n",
       "      <th>issale</th>\n",
       "      <td>FALSE</td>\n",
       "      <td>TRUE</td>\n",
       "      <td>FALSE</td>\n",
       "      <td>FALSE</td>\n",
       "      <td>FALSE</td>\n",
       "    </tr>\n",
       "    <tr>\n",
       "      <th>price_source_urls</th>\n",
       "      <td>http://www.bestbuy.com/site/sanus-tv-wall-moun...</td>\n",
       "      <td>https://www.walmart.com/ip/BOYTONE-BT210FB-BLA...</td>\n",
       "      <td>https://www.bestbuy.com/site/boytone-2500w-2-1...</td>\n",
       "      <td>https://www.walmart.com/ip/Boytone-BT-210F-Blu...</td>\n",
       "      <td>https://www.walmart.com/ip/Boytone-BT-210F-Blu...</td>\n",
       "    </tr>\n",
       "    <tr>\n",
       "      <th>pricing_id</th>\n",
       "      <td>1</td>\n",
       "      <td>2</td>\n",
       "      <td>3</td>\n",
       "      <td>4</td>\n",
       "      <td>5</td>\n",
       "    </tr>\n",
       "    <tr>\n",
       "      <th>merchant_id</th>\n",
       "      <td>1</td>\n",
       "      <td>2</td>\n",
       "      <td>1</td>\n",
       "      <td>2</td>\n",
       "      <td>2</td>\n",
       "    </tr>\n",
       "  </tbody>\n",
       "</table>\n",
       "</div>"
      ],
      "text/plain": [
       "                                                                   0  \\\n",
       "price_max                                                     104.99   \n",
       "price_min                                                     104.99   \n",
       "currency                                                         USD   \n",
       "date_seen          2017-03-30T06:00:00Z,2017-03-10T22:00:00Z,2017...   \n",
       "issale                                                         FALSE   \n",
       "price_source_urls  http://www.bestbuy.com/site/sanus-tv-wall-moun...   \n",
       "pricing_id                                                         1   \n",
       "merchant_id                                                        1   \n",
       "\n",
       "                                                                   1  \\\n",
       "price_max                                                         69   \n",
       "price_min                                                      64.99   \n",
       "currency                                                         USD   \n",
       "date_seen                                       2017-12-14T06:00:00Z   \n",
       "issale                                                          TRUE   \n",
       "price_source_urls  https://www.walmart.com/ip/BOYTONE-BT210FB-BLA...   \n",
       "pricing_id                                                         2   \n",
       "merchant_id                                                        2   \n",
       "\n",
       "                                                                   2  \\\n",
       "price_max                                                      69.99   \n",
       "price_min                                                      69.99   \n",
       "currency                                                         USD   \n",
       "date_seen                                       2017-10-10T05:00:00Z   \n",
       "issale                                                         FALSE   \n",
       "price_source_urls  https://www.bestbuy.com/site/boytone-2500w-2-1...   \n",
       "pricing_id                                                         3   \n",
       "merchant_id                                                        1   \n",
       "\n",
       "                                                                   3  \\\n",
       "price_max                                                         69   \n",
       "price_min                                                         69   \n",
       "currency                                                         USD   \n",
       "date_seen                                       2017-09-08T05:00:00Z   \n",
       "issale                                                         FALSE   \n",
       "price_source_urls  https://www.walmart.com/ip/Boytone-BT-210F-Blu...   \n",
       "pricing_id                                                         4   \n",
       "merchant_id                                                        2   \n",
       "\n",
       "                                                                   4  \n",
       "price_max                                                         66  \n",
       "price_min                                                         66  \n",
       "currency                                                         USD  \n",
       "date_seen                                       2017-10-24T04:00:00Z  \n",
       "issale                                                         FALSE  \n",
       "price_source_urls  https://www.walmart.com/ip/Boytone-BT-210F-Blu...  \n",
       "pricing_id                                                         5  \n",
       "merchant_id                                                        2  "
      ]
     },
     "execution_count": 775,
     "metadata": {},
     "output_type": "execute_result"
    }
   ],
   "source": [
    "# Read parquet\n",
    "parq_pricing=pd.read_parquet(\"/path/price.parquet\")\n",
    "parq_pricing.head().T"
   ]
  },
  {
   "cell_type": "code",
   "execution_count": 774,
   "metadata": {},
   "outputs": [
    {
     "data": {
      "text/html": [
       "<div>\n",
       "<style scoped>\n",
       "    .dataframe tbody tr th:only-of-type {\n",
       "        vertical-align: middle;\n",
       "    }\n",
       "\n",
       "    .dataframe tbody tr th {\n",
       "        vertical-align: top;\n",
       "    }\n",
       "\n",
       "    .dataframe thead th {\n",
       "        text-align: right;\n",
       "    }\n",
       "</style>\n",
       "<table border=\"1\" class=\"dataframe\">\n",
       "  <thead>\n",
       "    <tr style=\"text-align: right;\">\n",
       "      <th></th>\n",
       "      <th>0</th>\n",
       "      <th>1</th>\n",
       "      <th>2</th>\n",
       "    </tr>\n",
       "  </thead>\n",
       "  <tbody>\n",
       "    <tr>\n",
       "      <th>manufacturer_id</th>\n",
       "      <td>2</td>\n",
       "      <td>2</td>\n",
       "      <td>2</td>\n",
       "    </tr>\n",
       "    <tr>\n",
       "      <th>pricing_id</th>\n",
       "      <td>9</td>\n",
       "      <td>10</td>\n",
       "      <td>10</td>\n",
       "    </tr>\n",
       "    <tr>\n",
       "      <th>upc</th>\n",
       "      <td>7.94E+11</td>\n",
       "      <td>6.42E+11</td>\n",
       "      <td>6.42E+11</td>\n",
       "    </tr>\n",
       "    <tr>\n",
       "      <th>asins</th>\n",
       "      <td>B00C78VIUE</td>\n",
       "      <td>B018K251JE,B00VILQKQ8</td>\n",
       "      <td>B018K251JE,B00VILQKQ8</td>\n",
       "    </tr>\n",
       "    <tr>\n",
       "      <th>brand</th>\n",
       "      <td>Sanus</td>\n",
       "      <td>Boytone</td>\n",
       "      <td>Boytone</td>\n",
       "    </tr>\n",
       "    <tr>\n",
       "      <th>primary_categories</th>\n",
       "      <td>Electronics</td>\n",
       "      <td>Electronics</td>\n",
       "      <td>Electronics</td>\n",
       "    </tr>\n",
       "    <tr>\n",
       "      <th>categories</th>\n",
       "      <td>Audio &amp; Video Accessories,TV Mounts,TV Accesso...</td>\n",
       "      <td>Stereos,Portable Bluetooth Speakers,TV, Video ...</td>\n",
       "      <td>Stereos,Portable Bluetooth Speakers,TV, Video ...</td>\n",
       "    </tr>\n",
       "    <tr>\n",
       "      <th>availability</th>\n",
       "      <td>Yes</td>\n",
       "      <td>In Stock</td>\n",
       "      <td>Yes</td>\n",
       "    </tr>\n",
       "    <tr>\n",
       "      <th>condition</th>\n",
       "      <td>New</td>\n",
       "      <td>New</td>\n",
       "      <td>New</td>\n",
       "    </tr>\n",
       "    <tr>\n",
       "      <th>weight</th>\n",
       "      <td>32.8 pounds</td>\n",
       "      <td>14 pounds</td>\n",
       "      <td>14 pounds</td>\n",
       "    </tr>\n",
       "    <tr>\n",
       "      <th>source_urls</th>\n",
       "      <td>https://www.amazon.com/Sanus-VLF410B1-10-Inch-...</td>\n",
       "      <td>http://reviews.bestbuy.com/3545/4784804/review...</td>\n",
       "      <td>http://reviews.bestbuy.com/3545/4784804/review...</td>\n",
       "    </tr>\n",
       "    <tr>\n",
       "      <th>image_urls</th>\n",
       "      <td>https://images-na.ssl-images-amazon.com/images...</td>\n",
       "      <td>https://images-na.ssl-images-amazon.com/images...</td>\n",
       "      <td>https://images-na.ssl-images-amazon.com/images...</td>\n",
       "    </tr>\n",
       "    <tr>\n",
       "      <th>date_added</th>\n",
       "      <td>2015-04-13T12:00:51Z</td>\n",
       "      <td>2015-05-18T14:14:56Z</td>\n",
       "      <td>2015-05-18T14:14:56Z</td>\n",
       "    </tr>\n",
       "    <tr>\n",
       "      <th>date_updated</th>\n",
       "      <td>2018-05-12T18:59:48Z</td>\n",
       "      <td>2018-06-13T19:39:02Z</td>\n",
       "      <td>2018-06-13T19:39:02Z</td>\n",
       "    </tr>\n",
       "    <tr>\n",
       "      <th>product_id</th>\n",
       "      <td>1</td>\n",
       "      <td>2</td>\n",
       "      <td>3</td>\n",
       "    </tr>\n",
       "  </tbody>\n",
       "</table>\n",
       "</div>"
      ],
      "text/plain": [
       "                                                                    0  \\\n",
       "manufacturer_id                                                     2   \n",
       "pricing_id                                                          9   \n",
       "upc                                                          7.94E+11   \n",
       "asins                                                      B00C78VIUE   \n",
       "brand                                                           Sanus   \n",
       "primary_categories                                        Electronics   \n",
       "categories          Audio & Video Accessories,TV Mounts,TV Accesso...   \n",
       "availability                                                      Yes   \n",
       "condition                                                         New   \n",
       "weight                                                    32.8 pounds   \n",
       "source_urls         https://www.amazon.com/Sanus-VLF410B1-10-Inch-...   \n",
       "image_urls          https://images-na.ssl-images-amazon.com/images...   \n",
       "date_added                                       2015-04-13T12:00:51Z   \n",
       "date_updated                                     2018-05-12T18:59:48Z   \n",
       "product_id                                                          1   \n",
       "\n",
       "                                                                    1  \\\n",
       "manufacturer_id                                                     2   \n",
       "pricing_id                                                         10   \n",
       "upc                                                          6.42E+11   \n",
       "asins                                           B018K251JE,B00VILQKQ8   \n",
       "brand                                                         Boytone   \n",
       "primary_categories                                        Electronics   \n",
       "categories          Stereos,Portable Bluetooth Speakers,TV, Video ...   \n",
       "availability                                                 In Stock   \n",
       "condition                                                         New   \n",
       "weight                                                      14 pounds   \n",
       "source_urls         http://reviews.bestbuy.com/3545/4784804/review...   \n",
       "image_urls          https://images-na.ssl-images-amazon.com/images...   \n",
       "date_added                                       2015-05-18T14:14:56Z   \n",
       "date_updated                                     2018-06-13T19:39:02Z   \n",
       "product_id                                                          2   \n",
       "\n",
       "                                                                    2  \n",
       "manufacturer_id                                                     2  \n",
       "pricing_id                                                         10  \n",
       "upc                                                          6.42E+11  \n",
       "asins                                           B018K251JE,B00VILQKQ8  \n",
       "brand                                                         Boytone  \n",
       "primary_categories                                        Electronics  \n",
       "categories          Stereos,Portable Bluetooth Speakers,TV, Video ...  \n",
       "availability                                                      Yes  \n",
       "condition                                                         New  \n",
       "weight                                                      14 pounds  \n",
       "source_urls         http://reviews.bestbuy.com/3545/4784804/review...  \n",
       "image_urls          https://images-na.ssl-images-amazon.com/images...  \n",
       "date_added                                       2015-05-18T14:14:56Z  \n",
       "date_updated                                     2018-06-13T19:39:02Z  \n",
       "product_id                                                          3  "
      ]
     },
     "execution_count": 774,
     "metadata": {},
     "output_type": "execute_result"
    }
   ],
   "source": [
    "# Read parquet\n",
    "parq_product=pd.read_parquet(\"/path/product.parquet\")\n",
    "parq_product.head().T"
   ]
  }
 ],
 "metadata": {
  "kernelspec": {
   "display_name": "Python [conda env:Python3] *",
   "language": "python",
   "name": "conda-env-Python3-py"
  },
  "language_info": {
   "codemirror_mode": {
    "name": "ipython",
    "version": 3
   },
   "file_extension": ".py",
   "mimetype": "text/x-python",
   "name": "python",
   "nbconvert_exporter": "python",
   "pygments_lexer": "ipython3",
   "version": "3.8.2"
  }
 },
 "nbformat": 4,
 "nbformat_minor": 2
}
